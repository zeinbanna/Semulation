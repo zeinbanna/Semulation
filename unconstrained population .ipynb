{
 "cells": [
  {
   "cell_type": "code",
   "execution_count": 3,
   "metadata": {},
   "outputs": [
    {
     "name": "stdout",
     "output_type": "stream",
     "text": [
      "time is:  20.0 \t population 738.9056406654136\n"
     ]
    }
   ],
   "source": [
    "import matplotlib.pyplot as plt\n",
    "\n",
    "\n",
    "simulationLength=20\n",
    "population=100.00\n",
    "growthRate=0.10\n",
    "timestep=0.005\n",
    "numIterations=int(simulationLength/timestep)\n",
    "\n",
    "t=0\n",
    "for i in range (numIterations+1):\n",
    " growth=growthRate*population\n",
    " population=population+(growth*timestep)\n",
    " t=i*timestep\n",
    "print(\"time is: \",t , \"\\t population\",population)   \n",
    "    "
   ]
  }
 ],
 "metadata": {
  "kernelspec": {
   "display_name": "Python 3",
   "language": "python",
   "name": "python3"
  },
  "language_info": {
   "codemirror_mode": {
    "name": "ipython",
    "version": 3
   },
   "file_extension": ".py",
   "mimetype": "text/x-python",
   "name": "python",
   "nbconvert_exporter": "python",
   "pygments_lexer": "ipython3",
   "version": "3.6.6"
  }
 },
 "nbformat": 4,
 "nbformat_minor": 2
}
