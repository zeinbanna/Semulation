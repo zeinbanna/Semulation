{
 "cells": [
  {
   "cell_type": "code",
   "execution_count": null,
   "metadata": {},
   "outputs": [],
   "source": [
    "import matplotlib.pyplot as plt\n",
    "import math\n",
    "\n",
    "\n",
    "acceleration_due_to_gravity=  9.81 # تسارع الجاذبية الارضية\n",
    "\n",
    "mass=80 # الكتلة \n",
    "\n",
    "weight=acceleration_due_to_gravity * mass  # الوزن\n",
    "\n",
    "spring_constant=6 # ثابت الحبل \n",
    "\n",
    "unweighted_length= 30 # طوله الاصلي\n",
    "\n",
    "length= 0\n",
    "\n",
    "velocity=0\n",
    "\n",
    "projected_area=0.1\n",
    "\n",
    "\n",
    "Δt=0.02# التغير في الزمن\n",
    "\n",
    "simulationLength=500\n",
    "\n",
    "numIterations=int(simulationLength/Δt) \n",
    "\n",
    "LengthList=[]\n",
    "velocityList=[]\n",
    "                  \n",
    "for i in range(numIterations+1):\n",
    "    \n",
    "    \n",
    "    if (length > unweighted_length):\n",
    "        restoring_spring_force = - spring_constant * (length - unweighted_length)\n",
    "        \n",
    "    else:\n",
    "        restoring_spring_force= 0\n",
    "        \n",
    "    air_friction = -0.65 * projected_area * velocity * abs(velocity)\n",
    "    total_force =restoring_spring_force + weight +air_friction # القوة الكلية  \n",
    "                  \n",
    "    acceleration = total_force/mass # التسارع \n",
    "    \n",
    "    velocity+= acceleration * Δt # معدل السرعة\n",
    "    \n",
    "    length =length + velocity *  Δt # الطول النهائي\n",
    "    \n",
    "    velocityList.append(velocity)\n",
    "    LengthList.append(length)\n",
    "    \n",
    "    \n",
    "plt.plot(velocityList,color=\"red\",label='velocity')                   \n",
    "plt.plot(LengthList,color=\"blue\")  \n",
    "plt.xlabel(\"Time\")\n",
    "plt.show()                  \n"
   ]
  },
  {
   "cell_type": "code",
   "execution_count": null,
   "metadata": {},
   "outputs": [],
   "source": []
  }
 ],
 "metadata": {
  "kernelspec": {
   "display_name": "Python 3",
   "language": "python",
   "name": "python3"
  },
  "language_info": {
   "codemirror_mode": {
    "name": "ipython",
    "version": 3
   },
   "file_extension": ".py",
   "mimetype": "text/x-python",
   "name": "python",
   "nbconvert_exporter": "python",
   "pygments_lexer": "ipython3",
   "version": "3.6.6"
  }
 },
 "nbformat": 4,
 "nbformat_minor": 2
}
